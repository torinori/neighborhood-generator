{
 "cells": [
  {
   "cell_type": "code",
   "execution_count": 15,
   "metadata": {},
   "outputs": [],
   "source": [
    "FILE = 'intersection_small'"
   ]
  },
  {
   "cell_type": "code",
   "execution_count": 16,
   "metadata": {},
   "outputs": [],
   "source": [
    "class TNode:\n",
    "    def __init__(self, id, lat, lng):\n",
    "        self.id = id\n",
    "        self.lat = lat\n",
    "        self.lng = lng\n",
    "\n",
    "class TGraph:\n",
    "    node_id_to_index = {}\n",
    "    nodes = []\n",
    "    edges: list[set] = []\n",
    "    edges_list: list[list] = []\n",
    "\n",
    "    def __init__(self) -> None:\n",
    "        self.node_id_to_index = {}\n",
    "        self.nodes = []\n",
    "        self.edges = []\n",
    "        self.edges_list = []\n",
    "\n",
    "    def add_node(self, node: TNode, ok_if_exists=True):\n",
    "        if node.id in self.node_id_to_index:\n",
    "            if not ok_if_exists:\n",
    "                raise Exception(\"Node already exists\")\n",
    "            return\n",
    "        index = len(self.nodes)\n",
    "        self.node_id_to_index[node.id] = index\n",
    "        self.nodes.append(node)\n",
    "        self.edges.append(set())\n",
    "\n",
    "    def add_edge(self, src_id, dst_id, ok_if_not_exists=True):\n",
    "        if src_id not in self.node_id_to_index:\n",
    "            if not ok_if_not_exists:\n",
    "                raise Exception(\"Source node does not exist\")\n",
    "            return\n",
    "        if dst_id not in self.node_id_to_index:\n",
    "            if not ok_if_not_exists:\n",
    "                raise Exception(\"Destination node does not exist\")\n",
    "            return\n",
    "        \n",
    "        src_index = self.node_id_to_index[src_id]\n",
    "        dst_index = self.node_id_to_index[dst_id]\n",
    "        self.edges[src_index].add(dst_index)\n",
    "        self.edges[dst_index].add(src_index)\n",
    "        self.edges_list.append([src_index, dst_index])\n",
    "\n",
    "    def __str__(self) -> str:\n",
    "        return f\"{len(self.nodes)} nodes, {len(self.edges_list)} edges\""
   ]
  },
  {
   "cell_type": "code",
   "execution_count": 17,
   "metadata": {},
   "outputs": [
    {
     "name": "stdout",
     "output_type": "stream",
     "text": [
      "2890 nodes, 3131 edges\n"
     ]
    }
   ],
   "source": [
    "import json \n",
    "\n",
    "def read_graph_from_json(file_path: str) -> TGraph:\n",
    "    with open(file_path, 'r') as file:\n",
    "        data = json.load(file)\n",
    "        graph = TGraph()\n",
    "        for element in data['elements']:\n",
    "            if element['type'] == 'node':\n",
    "                graph.add_node(TNode(element['id'], element['lat'], element['lon']))\n",
    "        \n",
    "        for element in data['elements']:\n",
    "            if element['type'] == 'way':\n",
    "                for i in range(len(element['nodes']) - 1):\n",
    "                    src = element['nodes'][i]\n",
    "                    dst = element['nodes'][i + 1]\n",
    "                    graph.add_edge(src, dst)\n",
    "\n",
    "        return graph\n",
    "    \n",
    "graph = read_graph_from_json(f\"../data_samples/osm_export/{FILE}.json\")\n",
    "\n",
    "print(graph)"
   ]
  },
  {
   "cell_type": "code",
   "execution_count": 18,
   "metadata": {},
   "outputs": [
    {
     "name": "stdout",
     "output_type": "stream",
     "text": [
      "[(43.23706200105764, 76.91400372352999), (43.23706436998761, 76.91368667694297), (43.2370842628245, 76.91358906536718), (43.23715256012122, 76.91375405635856), (43.24011677542051, 76.91545200573086), (43.240134202566516, 76.9152947341426), (43.240160500431735, 76.91531163707998), (43.24017168153925, 76.91548714658586), (43.24039571880108, 76.91563053426466), (43.24040074117031, 76.91546605167241)]\n"
     ]
    }
   ],
   "source": [
    "from planegeometry.structures.segments import Segment, Point\n",
    "from linesegmentintersections import bentley_ottman\n",
    "\n",
    "segment_list = list()\n",
    "\n",
    "MOVE = 0.000001\n",
    "\n",
    "for src_index in range(len(graph.nodes)):\n",
    "    src = graph.nodes[src_index]\n",
    "    for dst_index in graph.edges[src_index]:\n",
    "        if src_index >= dst_index:\n",
    "            continue\n",
    "            \n",
    "        dst = graph.nodes[dst_index]\n",
    "        \n",
    "        # print(src.lat, src.lng, dst.lat, dst.lng)\n",
    "\n",
    "        p1 = Point(src.lat, src.lng)\n",
    "        p2 = Point(dst.lat, dst.lng)\n",
    "        seg = Segment(p1, p2)\n",
    "        \n",
    "        # Need to move endpoints to center by a small amount.\n",
    "        center = seg.center()\n",
    "        dir1 = p1 - center\n",
    "        new_p1 = p1 - dir1 * (1 / dir1.__abs__()) * MOVE\n",
    "\n",
    "        dir2 = p2 - center\n",
    "        new_p2 = p2 - dir2 * (1 / dir2.__abs__()) * MOVE\n",
    "\n",
    "        segment_list.append([[new_p1.x, new_p1.y], [new_p2.x, new_p2.y]])\n",
    "\n",
    "li = bentley_ottman(segment_list)\n",
    "\n",
    "print(li)"
   ]
  },
  {
   "cell_type": "code",
   "execution_count": 19,
   "metadata": {},
   "outputs": [
    {
     "name": "stdout",
     "output_type": "stream",
     "text": [
      "43.23706200105764 76.91400372352999 0\n",
      "43.23706436998761 76.91368667694297 1\n",
      "43.2370842628245 76.91358906536718 2\n",
      "43.23715256012122 76.91375405635856 3\n",
      "43.24011677542051 76.91545200573086 4\n",
      "43.240134202566516 76.9152947341426 5\n",
      "43.240160500431735 76.91531163707998 6\n",
      "43.24017168153925 76.91548714658586 7\n",
      "43.24039571880108 76.91563053426466 8\n",
      "43.24040074117031 76.91546605167241 9\n"
     ]
    }
   ],
   "source": [
    "for i in range(len(li)):\n",
    "    # i = list(inter)\n",
    "    inter = li[i]\n",
    "    print(inter.x, inter.y, i)"
   ]
  },
  {
   "cell_type": "code",
   "execution_count": 20,
   "metadata": {},
   "outputs": [],
   "source": [
    "from planegeometry.structures.segments import Segment, Point\n",
    "\n",
    "segment_list = list()\n",
    "\n",
    "MOVE = 0.000001\n",
    "\n",
    "edges_to_remove = []\n",
    "\n",
    "for inter in li:\n",
    "    inter_point = Point(inter.x, inter.y)\n",
    "    for src_index in range(len(graph.nodes)):\n",
    "        src = graph.nodes[src_index]\n",
    "        for dst_index in graph.edges[src_index]:\n",
    "            if src_index >= dst_index:\n",
    "                continue\n",
    "                \n",
    "            dst = graph.nodes[dst_index]\n",
    "            \n",
    "            # print(src.lat, src.lng, dst.lat, dst.lng)\n",
    "\n",
    "            p1 = Point(src.lat, src.lng)\n",
    "            p2 = Point(dst.lat, dst.lng)\n",
    "            seg = Segment(p1, p2)\n",
    "            \n",
    "            if min(p1.x, p2.x) <= inter_point.x and inter_point.x <= max(p1.x, p2.x) and (abs(seg.calculate_y(inter_point.x) - inter_point.y) < 0.00001):\n",
    "                # print(seg, inter_point)\n",
    "                edges_to_remove.append((src_index, dst_index))\n",
    "\n",
    "for edge in edges_to_remove:\n",
    "    src_index, dst_index = edge\n",
    "    if dst_index in graph.edges[src_index]:\n",
    "        graph.edges[src_index].remove(dst_index)\n",
    "    if src_index in graph.edges[dst_index]:\n",
    "        graph.edges[dst_index].remove(src_index)"
   ]
  },
  {
   "cell_type": "code",
   "execution_count": 21,
   "metadata": {},
   "outputs": [],
   "source": [
    "# Format to graph to json format\n",
    "\n",
    "data = {\n",
    "    \"elements\": []\n",
    "}\n",
    "\n",
    "for node in graph.nodes:\n",
    "    data['elements'].append({\n",
    "        \"type\": \"node\",\n",
    "        \"id\": node.id,\n",
    "        \"lat\": node.lat,\n",
    "        \"lon\": node.lng\n",
    "    })\n",
    "\n",
    "for src_index in range(len(graph.nodes)):\n",
    "    for dst_index in graph.edges[src_index]:\n",
    "        src = graph.nodes[src_index]\n",
    "        dst = graph.nodes[dst_index]\n",
    "        \n",
    "        if src.id >= dst.id:\n",
    "            continue\n",
    "        \n",
    "        data['elements'].append({\n",
    "            \"type\": \"way\",\n",
    "            \"nodes\": [src.id, dst.id]\n",
    "        })\n",
    "\n",
    "with open(f'../data_samples/prepared/{FILE}.json', 'w') as file:\n",
    "    json.dump(data, file)"
   ]
  },
  {
   "cell_type": "code",
   "execution_count": null,
   "metadata": {},
   "outputs": [],
   "source": []
  }
 ],
 "metadata": {
  "kernelspec": {
   "display_name": "venv",
   "language": "python",
   "name": "python3"
  },
  "language_info": {
   "codemirror_mode": {
    "name": "ipython",
    "version": 3
   },
   "file_extension": ".py",
   "mimetype": "text/x-python",
   "name": "python",
   "nbconvert_exporter": "python",
   "pygments_lexer": "ipython3",
   "version": "3.10.12"
  }
 },
 "nbformat": 4,
 "nbformat_minor": 2
}
